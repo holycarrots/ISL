{
 "cells": [
  {
   "cell_type": "code",
   "execution_count": 1,
   "id": "8dcf7cd2-a793-450d-9f3f-9f100407c3a5",
   "metadata": {},
   "outputs": [],
   "source": [
    "import pandas as pd\n",
    "import numpy as np\n",
    "import matplotlib.pyplot as plt\n",
    "import tensorflow as tf\n",
    "from tensorflow import keras\n",
    "from tensorflow.keras import layers\n",
    "from sklearn.model_selection import train_test_split\n",
    "from sklearn.preprocessing import LabelEncoder\n",
    "from sklearn.metrics import accuracy_score, precision_score, recall_score, f1_score"
   ]
  },
  {
   "cell_type": "code",
   "execution_count": 2,
   "id": "e036a847-fb12-4376-bddb-26eb9c144028",
   "metadata": {},
   "outputs": [],
   "source": [
    "# Load the dataset\n",
    "data = pd.read_csv(\"keypoint.csv\", header=None)"
   ]
  },
  {
   "cell_type": "code",
   "execution_count": 3,
   "id": "32499a2d-9309-4512-b147-4179c6de06c5",
   "metadata": {},
   "outputs": [],
   "source": [
    "# Ensure the labels (first column) are strings\n",
    "data[0] = data[0].astype(str)"
   ]
  },
  {
   "cell_type": "code",
   "execution_count": 4,
   "id": "a3dc2f83-8046-4a11-a315-f80def3de308",
   "metadata": {},
   "outputs": [
    {
     "name": "stdout",
     "output_type": "stream",
     "text": [
      "['bathroom' 'hello' 'help' 'iloveyou' 'more' 'no' 'repeat' 'thanks' 'yes']\n"
     ]
    }
   ],
   "source": [
    "# Check unique labels to verify data integrity\n",
    "print(data[0].unique())"
   ]
  },
  {
   "cell_type": "code",
   "execution_count": 5,
   "id": "d12d0dc6-74b7-4712-bec3-306735d52c23",
   "metadata": {},
   "outputs": [],
   "source": [
    "# Features (X) and labels (y)\n",
    "X = data.iloc[:, 1:]\n",
    "y = data[0]"
   ]
  },
  {
   "cell_type": "code",
   "execution_count": 6,
   "id": "22475e0e-c216-411d-b8f5-4aa0a5aafc72",
   "metadata": {},
   "outputs": [],
   "source": [
    "# Encode the labels\n",
    "enc = LabelEncoder()\n",
    "y = enc.fit_transform(y)"
   ]
  },
  {
   "cell_type": "code",
   "execution_count": 7,
   "id": "fb099b1e-dc54-4416-9dfa-4d7f6f251637",
   "metadata": {},
   "outputs": [
    {
     "name": "stdout",
     "output_type": "stream",
     "text": [
      "[0 0 0 0 0 0 0 0 0 0 1 1 1 1 1 1 1 1 2 2 2 2 2 2 2 2 3 3 3 3 3 3 3 3 3 3 3\n",
      " 3 4 4 4 4 4 4 4 4 4 4 4 4 4 4 4 4 4 4 4 5 5 5 5 5 5 5 5 5 5 5 6 6 6 6 6 6\n",
      " 6 6 6 6 6 6 6 6 6 7 7 7 7 7 7 7 7 7 7 7 7 7 7 7 7 7 7 8 8 8 8 8 8 8 8 8 8]\n"
     ]
    }
   ],
   "source": [
    "# Print the encoded labels to verify\n",
    "print(y)"
   ]
  },
  {
   "cell_type": "code",
   "execution_count": 8,
   "id": "4d351a2d-c3c2-4997-ba59-61edeb299b32",
   "metadata": {},
   "outputs": [],
   "source": [
    "# Callback for early stopping\n",
    "from keras.callbacks import EarlyStopping\n",
    "es = EarlyStopping(monitor='val_loss', mode='min', verbose=1, patience=2)"
   ]
  },
  {
   "cell_type": "code",
   "execution_count": 9,
   "id": "318e6ef5-e7ab-430f-926c-2fa60a623fde",
   "metadata": {},
   "outputs": [],
   "source": [
    "# Split the data into training and testing sets\n",
    "X_train, X_test, y_train, y_test = train_test_split(X, y, test_size=0.2, random_state=42)"
   ]
  },
  {
   "cell_type": "code",
   "execution_count": 10,
   "id": "e0a4bfc9-c607-4105-8c49-df849f03f82b",
   "metadata": {},
   "outputs": [],
   "source": [
    "# Define the model\n",
    "model = keras.Sequential([\n",
    "    layers.Dense(1470, activation='relu', input_shape=(X_train.shape[1],)),\n",
    "    layers.Dropout(0.5),\n",
    "    layers.Dense(832, activation='relu'),\n",
    "    layers.Dropout(0.5),\n",
    "    layers.Dense(428, activation='relu'),\n",
    "    layers.Dropout(0.5),\n",
    "    layers.Dense(264, activation='relu'),\n",
    "    layers.Dropout(0.5),\n",
    "    layers.Dense(len(enc.classes_), activation='softmax')\n",
    "])"
   ]
  },
  {
   "cell_type": "code",
   "execution_count": 11,
   "id": "8b0ee05b-04c2-4bdd-9bf7-c152e3864726",
   "metadata": {},
   "outputs": [],
   "source": [
    "# Compile the model\n",
    "model.compile(loss=\"sparse_categorical_crossentropy\", optimizer=\"adam\", metrics=[\"accuracy\"])"
   ]
  },
  {
   "cell_type": "code",
   "execution_count": 12,
   "id": "0656c591-505f-43d2-8a4e-73f010d6775d",
   "metadata": {},
   "outputs": [
    {
     "name": "stdout",
     "output_type": "stream",
     "text": [
      "Epoch 1/50\n",
      "1/1 [==============================] - 2s 2s/step - loss: 2.2256 - accuracy: 0.1286 - val_loss: 2.1610 - val_accuracy: 0.1111\n",
      "Epoch 2/50\n",
      "1/1 [==============================] - 0s 45ms/step - loss: 2.1364 - accuracy: 0.1857 - val_loss: 2.1408 - val_accuracy: 0.1111\n",
      "Epoch 3/50\n",
      "1/1 [==============================] - 0s 50ms/step - loss: 2.1351 - accuracy: 0.1857 - val_loss: 2.1411 - val_accuracy: 0.1111\n",
      "Epoch 4/50\n",
      "1/1 [==============================] - 0s 45ms/step - loss: 2.0718 - accuracy: 0.2143 - val_loss: 2.1367 - val_accuracy: 0.1111\n",
      "Epoch 5/50\n",
      "1/1 [==============================] - 0s 49ms/step - loss: 1.9979 - accuracy: 0.2286 - val_loss: 2.1323 - val_accuracy: 0.1111\n",
      "Epoch 6/50\n",
      "1/1 [==============================] - 0s 54ms/step - loss: 1.9989 - accuracy: 0.2143 - val_loss: 2.1228 - val_accuracy: 0.1111\n",
      "Epoch 7/50\n",
      "1/1 [==============================] - 0s 50ms/step - loss: 2.0279 - accuracy: 0.2286 - val_loss: 2.1039 - val_accuracy: 0.1111\n",
      "Epoch 8/50\n",
      "1/1 [==============================] - 0s 58ms/step - loss: 1.9591 - accuracy: 0.2286 - val_loss: 2.0749 - val_accuracy: 0.1667\n",
      "Epoch 9/50\n",
      "1/1 [==============================] - 0s 56ms/step - loss: 1.9724 - accuracy: 0.2000 - val_loss: 2.0405 - val_accuracy: 0.3889\n",
      "Epoch 10/50\n",
      "1/1 [==============================] - 0s 50ms/step - loss: 1.9010 - accuracy: 0.2857 - val_loss: 1.9908 - val_accuracy: 0.4444\n",
      "Epoch 11/50\n",
      "1/1 [==============================] - 0s 47ms/step - loss: 1.8843 - accuracy: 0.2429 - val_loss: 1.9267 - val_accuracy: 0.4444\n",
      "Epoch 12/50\n",
      "1/1 [==============================] - 0s 49ms/step - loss: 1.8646 - accuracy: 0.2571 - val_loss: 1.8600 - val_accuracy: 0.4444\n",
      "Epoch 13/50\n",
      "1/1 [==============================] - 0s 55ms/step - loss: 1.8735 - accuracy: 0.2571 - val_loss: 1.7933 - val_accuracy: 0.4444\n",
      "Epoch 14/50\n",
      "1/1 [==============================] - 0s 51ms/step - loss: 1.7685 - accuracy: 0.3000 - val_loss: 1.7327 - val_accuracy: 0.5000\n",
      "Epoch 15/50\n",
      "1/1 [==============================] - 0s 47ms/step - loss: 1.7285 - accuracy: 0.4000 - val_loss: 1.6803 - val_accuracy: 0.4444\n",
      "Epoch 16/50\n",
      "1/1 [==============================] - 0s 49ms/step - loss: 1.6761 - accuracy: 0.4714 - val_loss: 1.6266 - val_accuracy: 0.4444\n",
      "Epoch 17/50\n",
      "1/1 [==============================] - 0s 48ms/step - loss: 1.6327 - accuracy: 0.3857 - val_loss: 1.5701 - val_accuracy: 0.4444\n",
      "Epoch 18/50\n",
      "1/1 [==============================] - 0s 50ms/step - loss: 1.5815 - accuracy: 0.4571 - val_loss: 1.5131 - val_accuracy: 0.5000\n",
      "Epoch 19/50\n",
      "1/1 [==============================] - 0s 53ms/step - loss: 1.6476 - accuracy: 0.3429 - val_loss: 1.4585 - val_accuracy: 0.5000\n",
      "Epoch 20/50\n",
      "1/1 [==============================] - 0s 50ms/step - loss: 1.5117 - accuracy: 0.4000 - val_loss: 1.4001 - val_accuracy: 0.4444\n",
      "Epoch 21/50\n",
      "1/1 [==============================] - 0s 52ms/step - loss: 1.5431 - accuracy: 0.3857 - val_loss: 1.3298 - val_accuracy: 0.5000\n",
      "Epoch 22/50\n",
      "1/1 [==============================] - 0s 51ms/step - loss: 1.5619 - accuracy: 0.4571 - val_loss: 1.2510 - val_accuracy: 0.5000\n",
      "Epoch 23/50\n",
      "1/1 [==============================] - 0s 44ms/step - loss: 1.3295 - accuracy: 0.5714 - val_loss: 1.1842 - val_accuracy: 0.5556\n",
      "Epoch 24/50\n",
      "1/1 [==============================] - 0s 51ms/step - loss: 1.4032 - accuracy: 0.5000 - val_loss: 1.1197 - val_accuracy: 0.5556\n",
      "Epoch 25/50\n",
      "1/1 [==============================] - 0s 57ms/step - loss: 1.3132 - accuracy: 0.5714 - val_loss: 1.0610 - val_accuracy: 0.5556\n",
      "Epoch 26/50\n",
      "1/1 [==============================] - 0s 49ms/step - loss: 1.2200 - accuracy: 0.5714 - val_loss: 1.0047 - val_accuracy: 0.5556\n",
      "Epoch 27/50\n",
      "1/1 [==============================] - 0s 57ms/step - loss: 1.1195 - accuracy: 0.6286 - val_loss: 0.9531 - val_accuracy: 0.5556\n",
      "Epoch 28/50\n",
      "1/1 [==============================] - 0s 58ms/step - loss: 1.1399 - accuracy: 0.6286 - val_loss: 0.8970 - val_accuracy: 0.5556\n",
      "Epoch 29/50\n",
      "1/1 [==============================] - 0s 63ms/step - loss: 1.0727 - accuracy: 0.5857 - val_loss: 0.8419 - val_accuracy: 0.6111\n",
      "Epoch 30/50\n",
      "1/1 [==============================] - 0s 53ms/step - loss: 0.9536 - accuracy: 0.6571 - val_loss: 0.7901 - val_accuracy: 0.6111\n",
      "Epoch 31/50\n",
      "1/1 [==============================] - 0s 58ms/step - loss: 1.0402 - accuracy: 0.6714 - val_loss: 0.7315 - val_accuracy: 0.6111\n",
      "Epoch 32/50\n",
      "1/1 [==============================] - 0s 60ms/step - loss: 0.9223 - accuracy: 0.6429 - val_loss: 0.6748 - val_accuracy: 0.6111\n",
      "Epoch 33/50\n",
      "1/1 [==============================] - 0s 49ms/step - loss: 0.8118 - accuracy: 0.7143 - val_loss: 0.6249 - val_accuracy: 0.6111\n",
      "Epoch 34/50\n",
      "1/1 [==============================] - 0s 58ms/step - loss: 0.7321 - accuracy: 0.7429 - val_loss: 0.5788 - val_accuracy: 0.7778\n",
      "Epoch 35/50\n",
      "1/1 [==============================] - 0s 50ms/step - loss: 0.6940 - accuracy: 0.7429 - val_loss: 0.5293 - val_accuracy: 0.8333\n",
      "Epoch 36/50\n",
      "1/1 [==============================] - 0s 54ms/step - loss: 0.6793 - accuracy: 0.7286 - val_loss: 0.4838 - val_accuracy: 0.8333\n",
      "Epoch 37/50\n",
      "1/1 [==============================] - 0s 48ms/step - loss: 0.6728 - accuracy: 0.7714 - val_loss: 0.4414 - val_accuracy: 0.8889\n",
      "Epoch 38/50\n",
      "1/1 [==============================] - 0s 58ms/step - loss: 0.6030 - accuracy: 0.8429 - val_loss: 0.4120 - val_accuracy: 0.8889\n",
      "Epoch 39/50\n",
      "1/1 [==============================] - 0s 50ms/step - loss: 0.5869 - accuracy: 0.7857 - val_loss: 0.3890 - val_accuracy: 0.8889\n",
      "Epoch 40/50\n",
      "1/1 [==============================] - 0s 58ms/step - loss: 0.5515 - accuracy: 0.8714 - val_loss: 0.3874 - val_accuracy: 0.8889\n",
      "Epoch 41/50\n",
      "1/1 [==============================] - 0s 57ms/step - loss: 0.5053 - accuracy: 0.7857 - val_loss: 0.3891 - val_accuracy: 0.8889\n",
      "Epoch 42/50\n",
      "1/1 [==============================] - 0s 51ms/step - loss: 0.4384 - accuracy: 0.8714 - val_loss: 0.3798 - val_accuracy: 0.8889\n",
      "Epoch 43/50\n",
      "1/1 [==============================] - 0s 54ms/step - loss: 0.4020 - accuracy: 0.8429 - val_loss: 0.3572 - val_accuracy: 0.8889\n",
      "Epoch 44/50\n",
      "1/1 [==============================] - 0s 53ms/step - loss: 0.4820 - accuracy: 0.8000 - val_loss: 0.3342 - val_accuracy: 0.8889\n",
      "Epoch 45/50\n",
      "1/1 [==============================] - 0s 57ms/step - loss: 0.3077 - accuracy: 0.9000 - val_loss: 0.3013 - val_accuracy: 0.8889\n",
      "Epoch 46/50\n",
      "1/1 [==============================] - 0s 60ms/step - loss: 0.2791 - accuracy: 0.9571 - val_loss: 0.2709 - val_accuracy: 0.8889\n",
      "Epoch 47/50\n",
      "1/1 [==============================] - 0s 67ms/step - loss: 0.3357 - accuracy: 0.8571 - val_loss: 0.2520 - val_accuracy: 0.9444\n",
      "Epoch 48/50\n",
      "1/1 [==============================] - 0s 51ms/step - loss: 0.3506 - accuracy: 0.8143 - val_loss: 0.2402 - val_accuracy: 1.0000\n",
      "Epoch 49/50\n",
      "1/1 [==============================] - 0s 53ms/step - loss: 0.2602 - accuracy: 0.9000 - val_loss: 0.2274 - val_accuracy: 0.9444\n",
      "Epoch 50/50\n",
      "1/1 [==============================] - 0s 49ms/step - loss: 0.3345 - accuracy: 0.9000 - val_loss: 0.2099 - val_accuracy: 0.9444\n"
     ]
    },
    {
     "data": {
      "text/plain": [
       "<keras.callbacks.History at 0x26d25f4cc70>"
      ]
     },
     "execution_count": 12,
     "metadata": {},
     "output_type": "execute_result"
    }
   ],
   "source": [
    "# Train the model\n",
    "model.fit(X_train, y_train, epochs=50, batch_size=128, validation_split=0.2, callbacks=[es])"
   ]
  },
  {
   "cell_type": "code",
   "execution_count": 13,
   "id": "d4f95f71-4fd9-43e3-9c55-f91c5381d0b5",
   "metadata": {},
   "outputs": [
    {
     "data": {
      "text/plain": [
       "[0.2534199357032776, 0.9130434989929199]"
      ]
     },
     "execution_count": 13,
     "metadata": {},
     "output_type": "execute_result"
    }
   ],
   "source": [
    "# Evaluate the model\n",
    "model.evaluate(X_test, y_test, verbose=0)"
   ]
  },
  {
   "cell_type": "code",
   "execution_count": 14,
   "id": "3f7fff65-6b81-42a2-8c12-28587f89643b",
   "metadata": {},
   "outputs": [
    {
     "name": "stdout",
     "output_type": "stream",
     "text": [
      "1/1 [==============================] - 0s 96ms/step\n"
     ]
    }
   ],
   "source": [
    "# Predictions on the test set\n",
    "y_val_pred = model.predict(X_test)\n",
    "y_val_pred_classes = np.argmax(y_val_pred, axis=1)"
   ]
  },
  {
   "cell_type": "code",
   "execution_count": 15,
   "id": "5b0276b1-6b0a-4de8-9308-0f24316754ed",
   "metadata": {},
   "outputs": [],
   "source": [
    "# Performance metrics\n",
    "acc = accuracy_score(y_test, y_val_pred_classes)\n",
    "prec = precision_score(y_test, y_val_pred_classes, average='macro')\n",
    "rec = recall_score(y_test, y_val_pred_classes, average='macro')\n",
    "f1 = f1_score(y_test, y_val_pred_classes, average='macro')"
   ]
  },
  {
   "cell_type": "code",
   "execution_count": 16,
   "id": "a291c5e0-7643-4075-bf0c-e15fe7e1b122",
   "metadata": {},
   "outputs": [
    {
     "name": "stdout",
     "output_type": "stream",
     "text": [
      "Accuracy: 0.9130434782608695\n",
      "Precision: 0.9166666666666666\n",
      "Recall: 0.9682539682539684\n",
      "F1-score: 0.9285714285714286\n"
     ]
    }
   ],
   "source": [
    "# Print performance metrics\n",
    "print(\"Accuracy:\", acc)\n",
    "print(\"Precision:\", prec)\n",
    "print(\"Recall:\", rec)\n",
    "print(\"F1-score:\", f1)"
   ]
  },
  {
   "cell_type": "code",
   "execution_count": 17,
   "id": "43b42e00-bf76-47fa-b28f-078e7f4a2940",
   "metadata": {},
   "outputs": [],
   "source": [
    "# Save the model\n",
    "model.save(\"model.h5\")"
   ]
  },
  {
   "cell_type": "code",
   "execution_count": null,
   "id": "c8e47654-fcb6-4153-8f64-3869f0c9a9ed",
   "metadata": {},
   "outputs": [],
   "source": []
  }
 ],
 "metadata": {
  "kernelspec": {
   "display_name": "Python 3 (ipykernel)",
   "language": "python",
   "name": "python3"
  },
  "language_info": {
   "codemirror_mode": {
    "name": "ipython",
    "version": 3
   },
   "file_extension": ".py",
   "mimetype": "text/x-python",
   "name": "python",
   "nbconvert_exporter": "python",
   "pygments_lexer": "ipython3",
   "version": "3.9.18"
  }
 },
 "nbformat": 4,
 "nbformat_minor": 5
}
